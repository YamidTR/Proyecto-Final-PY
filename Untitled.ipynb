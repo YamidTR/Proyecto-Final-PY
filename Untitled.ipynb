{
 "cells": [
  {
   "cell_type": "code",
   "execution_count": 4,
   "id": "b818b26e-c896-4b18-8d16-b894d0c6c2b8",
   "metadata": {},
   "outputs": [],
   "source": [
    "import pandas as pd\n",
    "import matplotlib.pyplot as plt\n",
    "import seaborn as sns\n",
    "import numpy as np\n",
    "df= pd.read_csv(\"EducacionCiudades.csv\", encoding = \"unicode_escape\")\n"
   ]
  },
  {
   "cell_type": "code",
   "execution_count": null,
   "id": "b236360b-4c62-4761-bbba-2f205b349f95",
   "metadata": {},
   "outputs": [],
   "source": [
    "df = sns.load_dataset('EducacionCiudades')\n",
    "sns.barplot(x = 'who',\n",
    "            y = 'fare',\n",
    "            data = df)\n",
    "plt.show()"
   ]
  }
 ],
 "metadata": {
  "kernelspec": {
   "display_name": "Python 3 (ipykernel)",
   "language": "python",
   "name": "python3"
  },
  "language_info": {
   "codemirror_mode": {
    "name": "ipython",
    "version": 3
   },
   "file_extension": ".py",
   "mimetype": "text/x-python",
   "name": "python",
   "nbconvert_exporter": "python",
   "pygments_lexer": "ipython3",
   "version": "3.13.0"
  }
 },
 "nbformat": 4,
 "nbformat_minor": 5
}
